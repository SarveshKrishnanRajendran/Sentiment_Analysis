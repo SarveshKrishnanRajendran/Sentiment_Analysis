{
 "cells": [
  {
   "cell_type": "markdown",
   "id": "01acb52a-c64e-427e-9a64-cd8c1c123915",
   "metadata": {},
   "source": [
    "****IMPLEMENTING BERT MODEL FOR SENTIMENTAL ANALYISIS****"
   ]
  },
  {
   "cell_type": "markdown",
   "id": "2f45737c-de14-4193-b04a-b9292b9b8c3d",
   "metadata": {},
   "source": [
    "Loading necessary libraries and dataset form kaggle using an api token"
   ]
  },
  {
   "cell_type": "code",
   "execution_count": 1,
   "id": "43195229-aca5-4578-be9b-d4c18e82c182",
   "metadata": {
    "tags": []
   },
   "outputs": [
    {
     "name": "stdout",
     "output_type": "stream",
     "text": [
      "Found existing installation: tokenizers 0.20.1\n",
      "Uninstalling tokenizers-0.20.1:\n",
      "  Successfully uninstalled tokenizers-0.20.1\n"
     ]
    }
   ],
   "source": [
    "!pip uninstall tokenizers -y\n"
   ]
  },
  {
   "cell_type": "code",
   "execution_count": 2,
   "id": "b71d33b8-c0a1-470e-bac6-bbd8e827f32f",
   "metadata": {
    "tags": []
   },
   "outputs": [
    {
     "name": "stdout",
     "output_type": "stream",
     "text": [
      "Collecting tokenizers==0.20.1\n",
      "  Using cached tokenizers-0.20.1-cp311-cp311-macosx_11_0_arm64.whl.metadata (6.7 kB)\n",
      "Requirement already satisfied: huggingface-hub<1.0,>=0.16.4 in /Users/sarveshkrishnan/anaconda3/lib/python3.11/site-packages (from tokenizers==0.20.1) (0.26.0)\n",
      "Requirement already satisfied: filelock in /Users/sarveshkrishnan/anaconda3/lib/python3.11/site-packages (from huggingface-hub<1.0,>=0.16.4->tokenizers==0.20.1) (3.9.0)\n",
      "Requirement already satisfied: fsspec>=2023.5.0 in /Users/sarveshkrishnan/anaconda3/lib/python3.11/site-packages (from huggingface-hub<1.0,>=0.16.4->tokenizers==0.20.1) (2024.3.1)\n",
      "Requirement already satisfied: packaging>=20.9 in /Users/sarveshkrishnan/anaconda3/lib/python3.11/site-packages (from huggingface-hub<1.0,>=0.16.4->tokenizers==0.20.1) (23.0)\n",
      "Requirement already satisfied: pyyaml>=5.1 in /Users/sarveshkrishnan/anaconda3/lib/python3.11/site-packages (from huggingface-hub<1.0,>=0.16.4->tokenizers==0.20.1) (6.0)\n",
      "Requirement already satisfied: requests in /Users/sarveshkrishnan/anaconda3/lib/python3.11/site-packages (from huggingface-hub<1.0,>=0.16.4->tokenizers==0.20.1) (2.31.0)\n",
      "Requirement already satisfied: tqdm>=4.42.1 in /Users/sarveshkrishnan/anaconda3/lib/python3.11/site-packages (from huggingface-hub<1.0,>=0.16.4->tokenizers==0.20.1) (4.65.0)\n",
      "Requirement already satisfied: typing-extensions>=3.7.4.3 in /Users/sarveshkrishnan/anaconda3/lib/python3.11/site-packages (from huggingface-hub<1.0,>=0.16.4->tokenizers==0.20.1) (4.11.0)\n",
      "Requirement already satisfied: charset-normalizer<4,>=2 in /Users/sarveshkrishnan/anaconda3/lib/python3.11/site-packages (from requests->huggingface-hub<1.0,>=0.16.4->tokenizers==0.20.1) (2.0.4)\n",
      "Requirement already satisfied: idna<4,>=2.5 in /Users/sarveshkrishnan/anaconda3/lib/python3.11/site-packages (from requests->huggingface-hub<1.0,>=0.16.4->tokenizers==0.20.1) (3.4)\n",
      "Requirement already satisfied: urllib3<3,>=1.21.1 in /Users/sarveshkrishnan/anaconda3/lib/python3.11/site-packages (from requests->huggingface-hub<1.0,>=0.16.4->tokenizers==0.20.1) (1.26.16)\n",
      "Requirement already satisfied: certifi>=2017.4.17 in /Users/sarveshkrishnan/anaconda3/lib/python3.11/site-packages (from requests->huggingface-hub<1.0,>=0.16.4->tokenizers==0.20.1) (2024.8.30)\n",
      "Using cached tokenizers-0.20.1-cp311-cp311-macosx_11_0_arm64.whl (2.6 MB)\n",
      "Installing collected packages: tokenizers\n",
      "Successfully installed tokenizers-0.20.1\n",
      "Requirement already satisfied: transformers in /Users/sarveshkrishnan/anaconda3/lib/python3.11/site-packages (4.45.2)\n",
      "Requirement already satisfied: filelock in /Users/sarveshkrishnan/anaconda3/lib/python3.11/site-packages (from transformers) (3.9.0)\n",
      "Requirement already satisfied: huggingface-hub<1.0,>=0.23.2 in /Users/sarveshkrishnan/anaconda3/lib/python3.11/site-packages (from transformers) (0.26.0)\n",
      "Requirement already satisfied: numpy>=1.17 in /Users/sarveshkrishnan/anaconda3/lib/python3.11/site-packages (from transformers) (1.24.3)\n",
      "Requirement already satisfied: packaging>=20.0 in /Users/sarveshkrishnan/anaconda3/lib/python3.11/site-packages (from transformers) (23.0)\n",
      "Requirement already satisfied: pyyaml>=5.1 in /Users/sarveshkrishnan/anaconda3/lib/python3.11/site-packages (from transformers) (6.0)\n",
      "Requirement already satisfied: regex!=2019.12.17 in /Users/sarveshkrishnan/anaconda3/lib/python3.11/site-packages (from transformers) (2022.7.9)\n",
      "Requirement already satisfied: requests in /Users/sarveshkrishnan/anaconda3/lib/python3.11/site-packages (from transformers) (2.31.0)\n",
      "Requirement already satisfied: safetensors>=0.4.1 in /Users/sarveshkrishnan/anaconda3/lib/python3.11/site-packages (from transformers) (0.4.4)\n",
      "Requirement already satisfied: tokenizers<0.21,>=0.20 in /Users/sarveshkrishnan/anaconda3/lib/python3.11/site-packages (from transformers) (0.20.1)\n",
      "Requirement already satisfied: tqdm>=4.27 in /Users/sarveshkrishnan/anaconda3/lib/python3.11/site-packages (from transformers) (4.65.0)\n",
      "Requirement already satisfied: fsspec>=2023.5.0 in /Users/sarveshkrishnan/anaconda3/lib/python3.11/site-packages (from huggingface-hub<1.0,>=0.23.2->transformers) (2024.3.1)\n",
      "Requirement already satisfied: typing-extensions>=3.7.4.3 in /Users/sarveshkrishnan/anaconda3/lib/python3.11/site-packages (from huggingface-hub<1.0,>=0.23.2->transformers) (4.11.0)\n",
      "Requirement already satisfied: charset-normalizer<4,>=2 in /Users/sarveshkrishnan/anaconda3/lib/python3.11/site-packages (from requests->transformers) (2.0.4)\n",
      "Requirement already satisfied: idna<4,>=2.5 in /Users/sarveshkrishnan/anaconda3/lib/python3.11/site-packages (from requests->transformers) (3.4)\n",
      "Requirement already satisfied: urllib3<3,>=1.21.1 in /Users/sarveshkrishnan/anaconda3/lib/python3.11/site-packages (from requests->transformers) (1.26.16)\n",
      "Requirement already satisfied: certifi>=2017.4.17 in /Users/sarveshkrishnan/anaconda3/lib/python3.11/site-packages (from requests->transformers) (2024.8.30)\n"
     ]
    }
   ],
   "source": [
    "!pip install tokenizers==0.20.1\n",
    "!pip install transformers -U\n"
   ]
  },
  {
   "cell_type": "code",
   "execution_count": 3,
   "id": "fde7878f-4819-4afb-bf16-c726737f5bed",
   "metadata": {
    "tags": []
   },
   "outputs": [],
   "source": [
    "# !pip install tokenizers==0.13.3"
   ]
  },
  {
   "cell_type": "code",
   "execution_count": 4,
   "id": "8fe8e67e-effa-4b91-8e72-e6f760afc459",
   "metadata": {
    "tags": []
   },
   "outputs": [
    {
     "name": "stdout",
     "output_type": "stream",
     "text": [
      "0.20.1\n"
     ]
    }
   ],
   "source": [
    "import tokenizers\n",
    "print(tokenizers.__version__)"
   ]
  },
  {
   "cell_type": "code",
   "execution_count": 5,
   "id": "e0d2a7b1-385e-4a43-b485-47401a81c00a",
   "metadata": {
    "tags": []
   },
   "outputs": [
    {
     "name": "stdout",
     "output_type": "stream",
     "text": [
      "Requirement already satisfied: tf-keras in /Users/sarveshkrishnan/anaconda3/lib/python3.11/site-packages (2.17.0)\n",
      "Requirement already satisfied: tensorflow<2.18,>=2.17 in /Users/sarveshkrishnan/anaconda3/lib/python3.11/site-packages (from tf-keras) (2.17.0)\n",
      "Requirement already satisfied: absl-py>=1.0.0 in /Users/sarveshkrishnan/anaconda3/lib/python3.11/site-packages (from tensorflow<2.18,>=2.17->tf-keras) (2.1.0)\n",
      "Requirement already satisfied: astunparse>=1.6.0 in /Users/sarveshkrishnan/anaconda3/lib/python3.11/site-packages (from tensorflow<2.18,>=2.17->tf-keras) (1.6.3)\n",
      "Requirement already satisfied: flatbuffers>=24.3.25 in /Users/sarveshkrishnan/anaconda3/lib/python3.11/site-packages (from tensorflow<2.18,>=2.17->tf-keras) (24.3.25)\n",
      "Requirement already satisfied: gast!=0.5.0,!=0.5.1,!=0.5.2,>=0.2.1 in /Users/sarveshkrishnan/anaconda3/lib/python3.11/site-packages (from tensorflow<2.18,>=2.17->tf-keras) (0.5.4)\n",
      "Requirement already satisfied: google-pasta>=0.1.1 in /Users/sarveshkrishnan/anaconda3/lib/python3.11/site-packages (from tensorflow<2.18,>=2.17->tf-keras) (0.2.0)\n",
      "Requirement already satisfied: h5py>=3.10.0 in /Users/sarveshkrishnan/anaconda3/lib/python3.11/site-packages (from tensorflow<2.18,>=2.17->tf-keras) (3.11.0)\n",
      "Requirement already satisfied: libclang>=13.0.0 in /Users/sarveshkrishnan/anaconda3/lib/python3.11/site-packages (from tensorflow<2.18,>=2.17->tf-keras) (18.1.1)\n",
      "Requirement already satisfied: ml-dtypes<0.5.0,>=0.3.1 in /Users/sarveshkrishnan/anaconda3/lib/python3.11/site-packages (from tensorflow<2.18,>=2.17->tf-keras) (0.3.2)\n",
      "Requirement already satisfied: opt-einsum>=2.3.2 in /Users/sarveshkrishnan/anaconda3/lib/python3.11/site-packages (from tensorflow<2.18,>=2.17->tf-keras) (3.3.0)\n",
      "Requirement already satisfied: packaging in /Users/sarveshkrishnan/anaconda3/lib/python3.11/site-packages (from tensorflow<2.18,>=2.17->tf-keras) (23.0)\n",
      "Requirement already satisfied: protobuf!=4.21.0,!=4.21.1,!=4.21.2,!=4.21.3,!=4.21.4,!=4.21.5,<5.0.0dev,>=3.20.3 in /Users/sarveshkrishnan/anaconda3/lib/python3.11/site-packages (from tensorflow<2.18,>=2.17->tf-keras) (4.25.3)\n",
      "Requirement already satisfied: requests<3,>=2.21.0 in /Users/sarveshkrishnan/anaconda3/lib/python3.11/site-packages (from tensorflow<2.18,>=2.17->tf-keras) (2.31.0)\n",
      "Requirement already satisfied: setuptools in /Users/sarveshkrishnan/anaconda3/lib/python3.11/site-packages (from tensorflow<2.18,>=2.17->tf-keras) (68.0.0)\n",
      "Requirement already satisfied: six>=1.12.0 in /Users/sarveshkrishnan/anaconda3/lib/python3.11/site-packages (from tensorflow<2.18,>=2.17->tf-keras) (1.16.0)\n",
      "Requirement already satisfied: termcolor>=1.1.0 in /Users/sarveshkrishnan/anaconda3/lib/python3.11/site-packages (from tensorflow<2.18,>=2.17->tf-keras) (2.4.0)\n",
      "Requirement already satisfied: typing-extensions>=3.6.6 in /Users/sarveshkrishnan/anaconda3/lib/python3.11/site-packages (from tensorflow<2.18,>=2.17->tf-keras) (4.11.0)\n",
      "Requirement already satisfied: wrapt>=1.11.0 in /Users/sarveshkrishnan/anaconda3/lib/python3.11/site-packages (from tensorflow<2.18,>=2.17->tf-keras) (1.14.1)\n",
      "Requirement already satisfied: grpcio<2.0,>=1.24.3 in /Users/sarveshkrishnan/anaconda3/lib/python3.11/site-packages (from tensorflow<2.18,>=2.17->tf-keras) (1.62.2)\n",
      "Requirement already satisfied: tensorboard<2.18,>=2.17 in /Users/sarveshkrishnan/anaconda3/lib/python3.11/site-packages (from tensorflow<2.18,>=2.17->tf-keras) (2.17.1)\n",
      "Requirement already satisfied: keras>=3.2.0 in /Users/sarveshkrishnan/anaconda3/lib/python3.11/site-packages (from tensorflow<2.18,>=2.17->tf-keras) (3.2.1)\n",
      "Requirement already satisfied: tensorflow-io-gcs-filesystem>=0.23.1 in /Users/sarveshkrishnan/anaconda3/lib/python3.11/site-packages (from tensorflow<2.18,>=2.17->tf-keras) (0.36.0)\n",
      "Requirement already satisfied: numpy<2.0.0,>=1.23.5 in /Users/sarveshkrishnan/anaconda3/lib/python3.11/site-packages (from tensorflow<2.18,>=2.17->tf-keras) (1.24.3)\n",
      "Requirement already satisfied: wheel<1.0,>=0.23.0 in /Users/sarveshkrishnan/anaconda3/lib/python3.11/site-packages (from astunparse>=1.6.0->tensorflow<2.18,>=2.17->tf-keras) (0.38.4)\n",
      "Requirement already satisfied: rich in /Users/sarveshkrishnan/anaconda3/lib/python3.11/site-packages (from keras>=3.2.0->tensorflow<2.18,>=2.17->tf-keras) (13.7.1)\n",
      "Requirement already satisfied: namex in /Users/sarveshkrishnan/anaconda3/lib/python3.11/site-packages (from keras>=3.2.0->tensorflow<2.18,>=2.17->tf-keras) (0.0.8)\n",
      "Requirement already satisfied: optree in /Users/sarveshkrishnan/anaconda3/lib/python3.11/site-packages (from keras>=3.2.0->tensorflow<2.18,>=2.17->tf-keras) (0.11.0)\n",
      "Requirement already satisfied: charset-normalizer<4,>=2 in /Users/sarveshkrishnan/anaconda3/lib/python3.11/site-packages (from requests<3,>=2.21.0->tensorflow<2.18,>=2.17->tf-keras) (2.0.4)\n",
      "Requirement already satisfied: idna<4,>=2.5 in /Users/sarveshkrishnan/anaconda3/lib/python3.11/site-packages (from requests<3,>=2.21.0->tensorflow<2.18,>=2.17->tf-keras) (3.4)\n",
      "Requirement already satisfied: urllib3<3,>=1.21.1 in /Users/sarveshkrishnan/anaconda3/lib/python3.11/site-packages (from requests<3,>=2.21.0->tensorflow<2.18,>=2.17->tf-keras) (1.26.16)\n",
      "Requirement already satisfied: certifi>=2017.4.17 in /Users/sarveshkrishnan/anaconda3/lib/python3.11/site-packages (from requests<3,>=2.21.0->tensorflow<2.18,>=2.17->tf-keras) (2024.8.30)\n",
      "Requirement already satisfied: markdown>=2.6.8 in /Users/sarveshkrishnan/anaconda3/lib/python3.11/site-packages (from tensorboard<2.18,>=2.17->tensorflow<2.18,>=2.17->tf-keras) (3.4.1)\n",
      "Requirement already satisfied: tensorboard-data-server<0.8.0,>=0.7.0 in /Users/sarveshkrishnan/anaconda3/lib/python3.11/site-packages (from tensorboard<2.18,>=2.17->tensorflow<2.18,>=2.17->tf-keras) (0.7.2)\n",
      "Requirement already satisfied: werkzeug>=1.0.1 in /Users/sarveshkrishnan/anaconda3/lib/python3.11/site-packages (from tensorboard<2.18,>=2.17->tensorflow<2.18,>=2.17->tf-keras) (2.2.3)\n",
      "Requirement already satisfied: MarkupSafe>=2.1.1 in /Users/sarveshkrishnan/anaconda3/lib/python3.11/site-packages (from werkzeug>=1.0.1->tensorboard<2.18,>=2.17->tensorflow<2.18,>=2.17->tf-keras) (2.1.1)\n",
      "Requirement already satisfied: markdown-it-py>=2.2.0 in /Users/sarveshkrishnan/anaconda3/lib/python3.11/site-packages (from rich->keras>=3.2.0->tensorflow<2.18,>=2.17->tf-keras) (2.2.0)\n",
      "Requirement already satisfied: pygments<3.0.0,>=2.13.0 in /Users/sarveshkrishnan/anaconda3/lib/python3.11/site-packages (from rich->keras>=3.2.0->tensorflow<2.18,>=2.17->tf-keras) (2.15.1)\n",
      "Requirement already satisfied: mdurl~=0.1 in /Users/sarveshkrishnan/anaconda3/lib/python3.11/site-packages (from markdown-it-py>=2.2.0->rich->keras>=3.2.0->tensorflow<2.18,>=2.17->tf-keras) (0.1.0)\n"
     ]
    }
   ],
   "source": [
    "!pip install tf-keras\n"
   ]
  },
  {
   "cell_type": "code",
   "execution_count": 6,
   "id": "c688d89e-3670-4eb3-a868-1d763d1b6c75",
   "metadata": {
    "tags": []
   },
   "outputs": [
    {
     "name": "stdout",
     "output_type": "stream",
     "text": [
      "2.17.0\n"
     ]
    }
   ],
   "source": [
    "import tf_keras\n",
    "print(tf_keras.__version__)\n"
   ]
  },
  {
   "cell_type": "code",
   "execution_count": 7,
   "id": "9d34408d-7516-4e8e-9b31-ae5fc9deb8c1",
   "metadata": {
    "tags": []
   },
   "outputs": [],
   "source": [
    "import os\n",
    "import pandas as pd\n",
    "from transformers import DistilBertTokenizer, DistilBertForSequenceClassification\n",
    "from transformers import Trainer, TrainingArguments\n",
    "import torch\n",
    "from torch.utils.data import Dataset, DataLoader\n",
    "from sklearn.model_selection import train_test_split\n",
    "from kaggle.api.kaggle_api_extended import KaggleApi\n",
    "import numpy as np\n",
    "from sklearn.metrics import accuracy_score\n",
    "\n",
    "def download_dataset():\n",
    "    api = KaggleApi()\n",
    "    api.authenticate()\n",
    "    api.dataset_download_files('kazanova/sentiment140', path='sentiment140', unzip=True)\n",
    "\n"
   ]
  },
  {
   "cell_type": "markdown",
   "id": "4150ddf6-7aae-47e1-9a9f-a7f8811047d0",
   "metadata": {},
   "source": [
    "Created a class to preprocess the data and sample 100000 instances"
   ]
  },
  {
   "cell_type": "code",
   "execution_count": 8,
   "id": "43c42546-6c18-4feb-9e1c-5c6933272142",
   "metadata": {},
   "outputs": [],
   "source": [
    "class Sentiment140Dataset(Dataset):\n",
    "    def __init__(self, tokenizer, file_path, max_len=128, sample_size=100000):\n",
    "        column_names=['sentiment','id','date','flag','user','text']\n",
    "        self.data = pd.read_csv(file_path, encoding='ISO-8859-1', names=column_names)\n",
    "        self.data['sentiment'] = self.data['sentiment'].replace(4, 1)  # Convert 4 to 1 for positive sentiment\n",
    "        if sample_size:\n",
    "            self.data = self.data.sample(n=sample_size, random_state=42)\n",
    "        self.tokenizer = tokenizer\n",
    "        self.max_len = max_len\n",
    "\n",
    "    def __len__(self):\n",
    "        return len(self.data)\n",
    "\n",
    "    def __getitem__(self, index):\n",
    "        text = self.data.iloc[index]['text']\n",
    "        sentiment = self.data.iloc[index]['sentiment']\n",
    "        inputs = self.tokenizer.encode_plus(\n",
    "            text,\n",
    "            None,\n",
    "            add_special_tokens=True,\n",
    "            max_length=self.max_len,\n",
    "            padding='max_length',\n",
    "            return_token_type_ids=True,\n",
    "            truncation=True\n",
    "        )\n",
    "        return {\n",
    "            'input_ids': torch.tensor(inputs['input_ids'], dtype=torch.long),\n",
    "            'attention_mask': torch.tensor(inputs['attention_mask'], dtype=torch.long),\n",
    "            'labels': torch.tensor(sentiment, dtype=torch.long)\n",
    "        }\n"
   ]
  },
  {
   "cell_type": "markdown",
   "id": "cdb5cb41-ea9b-4543-b715-d5c0beda9eb1",
   "metadata": {
    "tags": []
   },
   "source": [
    "created a function to compute the metrics"
   ]
  },
  {
   "cell_type": "code",
   "execution_count": 9,
   "id": "99a0b638-a113-4c62-8ace-0519e36cc989",
   "metadata": {
    "tags": []
   },
   "outputs": [],
   "source": [
    "def compute_metrics(pred):\n",
    "    labels = pred.label_ids\n",
    "    preds = np.argmax(pred.predictions, axis=-1)\n",
    "    acc = accuracy_score(labels, preds)\n",
    "    return {'accuracy': acc}\n",
    "\n"
   ]
  },
  {
   "cell_type": "markdown",
   "id": "c3f78e68-fca1-4443-a677-79ddd8e1e106",
   "metadata": {
    "tags": []
   },
   "source": [
    "Defining a function to train the model on distil bert"
   ]
  },
  {
   "cell_type": "code",
   "execution_count": 10,
   "id": "68681214-e9c7-4444-91dc-101b9c0b5b2a",
   "metadata": {
    "tags": []
   },
   "outputs": [],
   "source": [
    "\n",
    "def train_model(data_path):\n",
    "    tokenizer = DistilBertTokenizer.from_pretrained('distilbert-base-uncased')\n",
    "    dataset = Sentiment140Dataset(tokenizer, os.path.join(data_path, 'training.1600000.processed.noemoticon.csv'), sample_size=1000)\n",
    "    model = DistilBertForSequenceClassification.from_pretrained('distilbert-base-uncased', num_labels=2)\n",
    "\n",
    "    train_dataset, test_dataset = train_test_split(dataset, test_size=0.1,random_state=42)\n",
    "    training_args = TrainingArguments(\n",
    "        output_dir='./results',\n",
    "        num_train_epochs=10,\n",
    "        per_device_train_batch_size=128,\n",
    "        warmup_steps=100,\n",
    "        weight_decay=0.01,\n",
    "        logging_dir='./logs',\n",
    "        logging_steps=10,\n",
    "    )\n",
    "\n",
    "    trainer = Trainer(\n",
    "        model=model,\n",
    "        args=training_args,\n",
    "        train_dataset=train_dataset,\n",
    "        eval_dataset=test_dataset,\n",
    "        compute_metrics=compute_metrics\n",
    "    )\n",
    "\n",
    "    trainer.train()\n",
    "    train_result = trainer.train()\n",
    "    eval_result = trainer.evaluate()\n",
    "\n",
    "\n",
    "    print(f\"Training results: {train_result.metrics}\")\n",
    "    print(f\"Evaluation results: {eval_result}\")\n",
    "    \n",
    "    model.save_pretrained('./saved_model')\n",
    "    tokenizer.save_pretrained('./saved_model')\n"
   ]
  },
  {
   "cell_type": "markdown",
   "id": "589a532d-9d62-4fa2-a315-d0ba6ff7ca23",
   "metadata": {},
   "source": [
    "Using a main function to run the code"
   ]
  },
  {
   "cell_type": "code",
   "execution_count": 11,
   "id": "87687948-809d-435f-9679-13590547504d",
   "metadata": {
    "tags": []
   },
   "outputs": [
    {
     "name": "stdout",
     "output_type": "stream",
     "text": [
      "Dataset URL: https://www.kaggle.com/datasets/kazanova/sentiment140\n"
     ]
    },
    {
     "name": "stderr",
     "output_type": "stream",
     "text": [
      "Some weights of DistilBertForSequenceClassification were not initialized from the model checkpoint at distilbert-base-uncased and are newly initialized: ['classifier.bias', 'classifier.weight', 'pre_classifier.bias', 'pre_classifier.weight']\n",
      "You should probably TRAIN this model on a down-stream task to be able to use it for predictions and inference.\n"
     ]
    },
    {
     "data": {
      "text/html": [
       "\n",
       "    <div>\n",
       "      \n",
       "      <progress value='80' max='80' style='width:300px; height:20px; vertical-align: middle;'></progress>\n",
       "      [80/80 03:58, Epoch 10/10]\n",
       "    </div>\n",
       "    <table border=\"1\" class=\"dataframe\">\n",
       "  <thead>\n",
       " <tr style=\"text-align: left;\">\n",
       "      <th>Step</th>\n",
       "      <th>Training Loss</th>\n",
       "    </tr>\n",
       "  </thead>\n",
       "  <tbody>\n",
       "    <tr>\n",
       "      <td>10</td>\n",
       "      <td>0.692500</td>\n",
       "    </tr>\n",
       "    <tr>\n",
       "      <td>20</td>\n",
       "      <td>0.681700</td>\n",
       "    </tr>\n",
       "    <tr>\n",
       "      <td>30</td>\n",
       "      <td>0.667000</td>\n",
       "    </tr>\n",
       "    <tr>\n",
       "      <td>40</td>\n",
       "      <td>0.604800</td>\n",
       "    </tr>\n",
       "    <tr>\n",
       "      <td>50</td>\n",
       "      <td>0.472800</td>\n",
       "    </tr>\n",
       "    <tr>\n",
       "      <td>60</td>\n",
       "      <td>0.297000</td>\n",
       "    </tr>\n",
       "    <tr>\n",
       "      <td>70</td>\n",
       "      <td>0.157200</td>\n",
       "    </tr>\n",
       "    <tr>\n",
       "      <td>80</td>\n",
       "      <td>0.059200</td>\n",
       "    </tr>\n",
       "  </tbody>\n",
       "</table><p>"
      ],
      "text/plain": [
       "<IPython.core.display.HTML object>"
      ]
     },
     "metadata": {},
     "output_type": "display_data"
    },
    {
     "data": {
      "text/html": [
       "\n",
       "    <div>\n",
       "      \n",
       "      <progress value='80' max='80' style='width:300px; height:20px; vertical-align: middle;'></progress>\n",
       "      [80/80 17:42, Epoch 10/10]\n",
       "    </div>\n",
       "    <table border=\"1\" class=\"dataframe\">\n",
       "  <thead>\n",
       " <tr style=\"text-align: left;\">\n",
       "      <th>Step</th>\n",
       "      <th>Training Loss</th>\n",
       "    </tr>\n",
       "  </thead>\n",
       "  <tbody>\n",
       "    <tr>\n",
       "      <td>10</td>\n",
       "      <td>0.042900</td>\n",
       "    </tr>\n",
       "    <tr>\n",
       "      <td>20</td>\n",
       "      <td>0.037100</td>\n",
       "    </tr>\n",
       "    <tr>\n",
       "      <td>30</td>\n",
       "      <td>0.019700</td>\n",
       "    </tr>\n",
       "    <tr>\n",
       "      <td>40</td>\n",
       "      <td>0.079500</td>\n",
       "    </tr>\n",
       "    <tr>\n",
       "      <td>50</td>\n",
       "      <td>0.011000</td>\n",
       "    </tr>\n",
       "    <tr>\n",
       "      <td>60</td>\n",
       "      <td>0.011300</td>\n",
       "    </tr>\n",
       "    <tr>\n",
       "      <td>70</td>\n",
       "      <td>0.008000</td>\n",
       "    </tr>\n",
       "    <tr>\n",
       "      <td>80</td>\n",
       "      <td>0.004400</td>\n",
       "    </tr>\n",
       "  </tbody>\n",
       "</table><p>"
      ],
      "text/plain": [
       "<IPython.core.display.HTML object>"
      ]
     },
     "metadata": {},
     "output_type": "display_data"
    },
    {
     "data": {
      "text/html": [
       "\n",
       "    <div>\n",
       "      \n",
       "      <progress value='13' max='13' style='width:300px; height:20px; vertical-align: middle;'></progress>\n",
       "      [13/13 00:01]\n",
       "    </div>\n",
       "    "
      ],
      "text/plain": [
       "<IPython.core.display.HTML object>"
      ]
     },
     "metadata": {},
     "output_type": "display_data"
    },
    {
     "name": "stdout",
     "output_type": "stream",
     "text": [
      "Training results: {'train_runtime': 1073.3269, 'train_samples_per_second': 8.385, 'train_steps_per_second': 0.075, 'total_flos': 298051646976000.0, 'train_loss': 0.026747826579958202, 'epoch': 10.0}\n",
      "Evaluation results: {'eval_loss': 0.764305055141449, 'eval_accuracy': 0.84, 'eval_runtime': 3.5397, 'eval_samples_per_second': 28.251, 'eval_steps_per_second': 3.673, 'epoch': 10.0}\n"
     ]
    }
   ],
   "source": [
    "# Main execution\n",
    "if __name__ == '__main__':\n",
    "    download_dataset()\n",
    "    train_model('sentiment140')\n",
    "\n"
   ]
  },
  {
   "cell_type": "code",
   "execution_count": null,
   "id": "e2894d68-69dc-41cd-bf15-efdccb0a7ea0",
   "metadata": {},
   "outputs": [],
   "source": []
  }
 ],
 "metadata": {
  "kernelspec": {
   "display_name": "Python 3 (ipykernel)",
   "language": "python",
   "name": "python3"
  },
  "language_info": {
   "codemirror_mode": {
    "name": "ipython",
    "version": 3
   },
   "file_extension": ".py",
   "mimetype": "text/x-python",
   "name": "python",
   "nbconvert_exporter": "python",
   "pygments_lexer": "ipython3",
   "version": "3.11.4"
  }
 },
 "nbformat": 4,
 "nbformat_minor": 5
}
