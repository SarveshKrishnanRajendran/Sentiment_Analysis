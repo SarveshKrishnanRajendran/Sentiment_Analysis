{
 "cells": [
  {
   "cell_type": "markdown",
   "metadata": {},
   "source": [
    "*SENTIMENT ANALYISIS*"
   ]
  },
  {
   "cell_type": "code",
   "execution_count": 1,
   "metadata": {
    "colab": {
     "base_uri": "https://localhost:8080/"
    },
    "id": "qPzBzUq5L1qJ",
    "outputId": "757aa71f-38b3-4718-b89b-2a09f3faa2f1"
   },
   "outputs": [],
   "source": [
    "#use \n",
    "# ! pip install kaggle "
   ]
  },
  {
   "cell_type": "code",
   "execution_count": 2,
   "metadata": {
    "id": "lGzWq4QnL-lL"
   },
   "outputs": [],
   "source": [
    "!mkdir -p ~/.kaggle\n",
    "!cp kaggle.json ~/.kaggle/\n",
    "!chmod 600 ~/.kaggle/kaggle.json"
   ]
  },
  {
   "cell_type": "markdown",
   "metadata": {
    "id": "OEMdU6D9MBQX"
   },
   "source": [
    "IMPORTING THE DATASET (using api to fetch the dataset from kaggle)"
   ]
  },
  {
   "cell_type": "code",
   "execution_count": 3,
   "metadata": {
    "colab": {
     "base_uri": "https://localhost:8080/"
    },
    "id": "KcpUmGIjMBiK",
    "outputId": "9780546d-cabe-479c-c52f-968e5aa2df97"
   },
   "outputs": [
    {
     "name": "stdout",
     "output_type": "stream",
     "text": [
      "Dataset URL: https://www.kaggle.com/datasets/kazanova/sentiment140\n",
      "License(s): other\n",
      "sentiment140.zip: Skipping, found more recently modified local copy (use --force to force download)\n"
     ]
    }
   ],
   "source": [
    "!kaggle datasets download -d kazanova/sentiment140"
   ]
  },
  {
   "cell_type": "code",
   "execution_count": 4,
   "metadata": {
    "id": "QTtHG6EbMBk4"
   },
   "outputs": [],
   "source": [
    "from zipfile import ZipFile\n",
    "dataset = 'sentiment140.zip'"
   ]
  },
  {
   "cell_type": "code",
   "execution_count": 5,
   "metadata": {
    "colab": {
     "base_uri": "https://localhost:8080/"
    },
    "id": "Izoi5-ZlMBrm",
    "outputId": "9efc1611-f9c5-47e0-a201-fb823ebec4d8"
   },
   "outputs": [
    {
     "name": "stdout",
     "output_type": "stream",
     "text": [
      "The dataset is extracted\n"
     ]
    }
   ],
   "source": [
    "with ZipFile(dataset,'r') as zip:\n",
    "  zip.extractall()\n",
    "  print('The dataset is extracted')"
   ]
  },
  {
   "cell_type": "code",
   "execution_count": 6,
   "metadata": {
    "id": "LwXoVf7MMBua"
   },
   "outputs": [],
   "source": [
    "import numpy as np\n",
    "import pandas as pd\n",
    "import re\n",
    "from nltk.corpus import stopwords\n",
    "from nltk.stem.porter import PorterStemmer\n",
    "from sklearn.feature_extraction.text import TfidfVectorizer\n",
    "from sklearn.model_selection import train_test_split\n",
    "from sklearn.linear_model import LogisticRegression\n",
    "from sklearn.metrics import accuracy_score"
   ]
  },
  {
   "cell_type": "code",
   "execution_count": 7,
   "metadata": {
    "colab": {
     "base_uri": "https://localhost:8080/"
    },
    "id": "T-HrXMhWMBw8",
    "outputId": "66c5ec25-065f-42ac-f69e-55114b15da9a"
   },
   "outputs": [],
   "source": [
    "import nltk\n",
    "#nltk.download('stopwords')- use this code if stopwords are not downloaded"
   ]
  },
  {
   "cell_type": "code",
   "execution_count": 8,
   "metadata": {
    "colab": {
     "base_uri": "https://localhost:8080/"
    },
    "id": "3kdWfWQ_PNO6",
    "outputId": "3af58410-a1c3-4a37-bbee-caaa02169d71"
   },
   "outputs": [
    {
     "name": "stdout",
     "output_type": "stream",
     "text": [
      "['i', 'me', 'my', 'myself', 'we', 'our', 'ours', 'ourselves', 'you', \"you're\", \"you've\", \"you'll\", \"you'd\", 'your', 'yours', 'yourself', 'yourselves', 'he', 'him', 'his', 'himself', 'she', \"she's\", 'her', 'hers', 'herself', 'it', \"it's\", 'its', 'itself', 'they', 'them', 'their', 'theirs', 'themselves', 'what', 'which', 'who', 'whom', 'this', 'that', \"that'll\", 'these', 'those', 'am', 'is', 'are', 'was', 'were', 'be', 'been', 'being', 'have', 'has', 'had', 'having', 'do', 'does', 'did', 'doing', 'a', 'an', 'the', 'and', 'but', 'if', 'or', 'because', 'as', 'until', 'while', 'of', 'at', 'by', 'for', 'with', 'about', 'against', 'between', 'into', 'through', 'during', 'before', 'after', 'above', 'below', 'to', 'from', 'up', 'down', 'in', 'out', 'on', 'off', 'over', 'under', 'again', 'further', 'then', 'once', 'here', 'there', 'when', 'where', 'why', 'how', 'all', 'any', 'both', 'each', 'few', 'more', 'most', 'other', 'some', 'such', 'no', 'nor', 'not', 'only', 'own', 'same', 'so', 'than', 'too', 'very', 's', 't', 'can', 'will', 'just', 'don', \"don't\", 'should', \"should've\", 'now', 'd', 'll', 'm', 'o', 're', 've', 'y', 'ain', 'aren', \"aren't\", 'couldn', \"couldn't\", 'didn', \"didn't\", 'doesn', \"doesn't\", 'hadn', \"hadn't\", 'hasn', \"hasn't\", 'haven', \"haven't\", 'isn', \"isn't\", 'ma', 'mightn', \"mightn't\", 'mustn', \"mustn't\", 'needn', \"needn't\", 'shan', \"shan't\", 'shouldn', \"shouldn't\", 'wasn', \"wasn't\", 'weren', \"weren't\", 'won', \"won't\", 'wouldn', \"wouldn't\"]\n"
     ]
    }
   ],
   "source": [
    "#print the stopwords in english\n",
    "print(stopwords.words('english'))"
   ]
  },
  {
   "cell_type": "code",
   "execution_count": 9,
   "metadata": {
    "id": "Leo4JndSQ24m"
   },
   "outputs": [],
   "source": [
    "column_names=['target','id','date','flag','user','text']"
   ]
  },
  {
   "cell_type": "code",
   "execution_count": 10,
   "metadata": {
    "id": "0JdaxOduRDA-"
   },
   "outputs": [],
   "source": [
    "twitter_data=pd.read_csv('training.1600000.processed.noemoticon.csv',encoding='ISO-8859-1',names=column_names)"
   ]
  },
  {
   "cell_type": "code",
   "execution_count": 11,
   "metadata": {
    "tags": []
   },
   "outputs": [],
   "source": [
    "twitter_data.replace({'target':{4:1}},inplace = True)"
   ]
  },
  {
   "cell_type": "code",
   "execution_count": 12,
   "metadata": {
    "colab": {
     "base_uri": "https://localhost:8080/"
    },
    "id": "n0G3GI-LRS3l",
    "outputId": "2f2815ed-7c7a-4757-b67c-8711f8f2302e"
   },
   "outputs": [
    {
     "data": {
      "text/plain": [
       "(1600000, 6)"
      ]
     },
     "execution_count": 12,
     "metadata": {},
     "output_type": "execute_result"
    }
   ],
   "source": [
    "twitter_data.shape"
   ]
  },
  {
   "cell_type": "code",
   "execution_count": 13,
   "metadata": {
    "tags": []
   },
   "outputs": [
    {
     "data": {
      "text/plain": [
       "0    800000\n",
       "1    800000\n",
       "Name: target, dtype: int64"
      ]
     },
     "execution_count": 13,
     "metadata": {},
     "output_type": "execute_result"
    }
   ],
   "source": [
    "twitter_data['target'].value_counts()"
   ]
  },
  {
   "cell_type": "code",
   "execution_count": 14,
   "metadata": {
    "id": "lggcueH2TL7u"
   },
   "outputs": [],
   "source": [
    "# 0- negative\n",
    "# 1- positive"
   ]
  },
  {
   "cell_type": "code",
   "execution_count": 15,
   "metadata": {
    "tags": []
   },
   "outputs": [],
   "source": [
    "class_N_data = twitter_data[twitter_data['target'] == 0]\n",
    "class_Y_data = twitter_data[twitter_data['target'] == 1]\n",
    "\n",
    "# Sample 25,000 rows from each class\n",
    "class_N_sample = class_N_data.sample(n=25000, replace=False, random_state=42)\n",
    "class_Y_sample = class_Y_data.sample(n=25000, replace=False, random_state=42)\n",
    "\n",
    "#joining the two samples\n",
    "final_sample = pd.concat([class_N_sample, class_Y_sample])\n",
    "\n",
    "# Shuffling the final sample to mix the classes \n",
    "twitter_data = final_sample.sample(frac=1,random_state=42).reset_index(drop=True)"
   ]
  },
  {
   "cell_type": "code",
   "execution_count": 16,
   "metadata": {
    "colab": {
     "base_uri": "https://localhost:8080/",
     "height": 204
    },
    "id": "c15WlwDNRGLj",
    "outputId": "564b4e7a-1445-4864-cda4-099466827d29"
   },
   "outputs": [
    {
     "data": {
      "text/html": [
       "<div>\n",
       "<style scoped>\n",
       "    .dataframe tbody tr th:only-of-type {\n",
       "        vertical-align: middle;\n",
       "    }\n",
       "\n",
       "    .dataframe tbody tr th {\n",
       "        vertical-align: top;\n",
       "    }\n",
       "\n",
       "    .dataframe thead th {\n",
       "        text-align: right;\n",
       "    }\n",
       "</style>\n",
       "<table border=\"1\" class=\"dataframe\">\n",
       "  <thead>\n",
       "    <tr style=\"text-align: right;\">\n",
       "      <th></th>\n",
       "      <th>target</th>\n",
       "      <th>id</th>\n",
       "      <th>date</th>\n",
       "      <th>flag</th>\n",
       "      <th>user</th>\n",
       "      <th>text</th>\n",
       "    </tr>\n",
       "  </thead>\n",
       "  <tbody>\n",
       "    <tr>\n",
       "      <th>0</th>\n",
       "      <td>1</td>\n",
       "      <td>2064229792</td>\n",
       "      <td>Sun Jun 07 05:38:57 PDT 2009</td>\n",
       "      <td>NO_QUERY</td>\n",
       "      <td>PinoyTarsier</td>\n",
       "      <td>@indykitty *hug indykitty* sleep tight indy...</td>\n",
       "    </tr>\n",
       "    <tr>\n",
       "      <th>1</th>\n",
       "      <td>0</td>\n",
       "      <td>2063435330</td>\n",
       "      <td>Sun Jun 07 02:38:52 PDT 2009</td>\n",
       "      <td>NO_QUERY</td>\n",
       "      <td>Hannah_oxberry</td>\n",
       "      <td>@Shough yeah I feel really bad for them  tryin...</td>\n",
       "    </tr>\n",
       "    <tr>\n",
       "      <th>2</th>\n",
       "      <td>0</td>\n",
       "      <td>2251087443</td>\n",
       "      <td>Sat Jun 20 02:23:50 PDT 2009</td>\n",
       "      <td>NO_QUERY</td>\n",
       "      <td>meabhaline</td>\n",
       "      <td>@embeep sorry about your sadness  I'll be home...</td>\n",
       "    </tr>\n",
       "    <tr>\n",
       "      <th>3</th>\n",
       "      <td>0</td>\n",
       "      <td>2066987792</td>\n",
       "      <td>Sun Jun 07 11:32:31 PDT 2009</td>\n",
       "      <td>NO_QUERY</td>\n",
       "      <td>PDKG</td>\n",
       "      <td>Couldn't spend time with the family cuz of wor...</td>\n",
       "    </tr>\n",
       "    <tr>\n",
       "      <th>4</th>\n",
       "      <td>1</td>\n",
       "      <td>1557513350</td>\n",
       "      <td>Sun Apr 19 04:34:04 PDT 2009</td>\n",
       "      <td>NO_QUERY</td>\n",
       "      <td>eulaivi</td>\n",
       "      <td>is new on twitter</td>\n",
       "    </tr>\n",
       "  </tbody>\n",
       "</table>\n",
       "</div>"
      ],
      "text/plain": [
       "   target          id                          date      flag            user  \\\n",
       "0       1  2064229792  Sun Jun 07 05:38:57 PDT 2009  NO_QUERY    PinoyTarsier   \n",
       "1       0  2063435330  Sun Jun 07 02:38:52 PDT 2009  NO_QUERY  Hannah_oxberry   \n",
       "2       0  2251087443  Sat Jun 20 02:23:50 PDT 2009  NO_QUERY      meabhaline   \n",
       "3       0  2066987792  Sun Jun 07 11:32:31 PDT 2009  NO_QUERY            PDKG   \n",
       "4       1  1557513350  Sun Apr 19 04:34:04 PDT 2009  NO_QUERY         eulaivi   \n",
       "\n",
       "                                                text  \n",
       "0    @indykitty *hug indykitty* sleep tight indy...   \n",
       "1  @Shough yeah I feel really bad for them  tryin...  \n",
       "2  @embeep sorry about your sadness  I'll be home...  \n",
       "3  Couldn't spend time with the family cuz of wor...  \n",
       "4                                 is new on twitter   "
      ]
     },
     "execution_count": 16,
     "metadata": {},
     "output_type": "execute_result"
    }
   ],
   "source": [
    "twitter_data.head()"
   ]
  },
  {
   "cell_type": "code",
   "execution_count": 17,
   "metadata": {
    "colab": {
     "base_uri": "https://localhost:8080/"
    },
    "id": "6pW8nNNzRPW6",
    "outputId": "cd3fc443-cefa-4b77-87d3-402b1c4a2389"
   },
   "outputs": [
    {
     "data": {
      "text/plain": [
       "target    0\n",
       "id        0\n",
       "date      0\n",
       "flag      0\n",
       "user      0\n",
       "text      0\n",
       "dtype: int64"
      ]
     },
     "execution_count": 17,
     "metadata": {},
     "output_type": "execute_result"
    }
   ],
   "source": [
    "#counting the missing val\n",
    "twitter_data.isnull().sum()"
   ]
  },
  {
   "cell_type": "markdown",
   "metadata": {
    "id": "FfnFsLF_RvG_"
   },
   "source": [
    "checking the distribution of the target column"
   ]
  },
  {
   "cell_type": "code",
   "execution_count": 18,
   "metadata": {
    "colab": {
     "base_uri": "https://localhost:8080/"
    },
    "id": "hSpiAXT3SBK3",
    "outputId": "15ee82c9-9cc1-4efa-f366-134c2cd36cc0"
   },
   "outputs": [
    {
     "data": {
      "text/plain": [
       "1    25000\n",
       "0    25000\n",
       "Name: target, dtype: int64"
      ]
     },
     "execution_count": 18,
     "metadata": {},
     "output_type": "execute_result"
    }
   ],
   "source": [
    "twitter_data['target'].value_counts()"
   ]
  },
  {
   "cell_type": "markdown",
   "metadata": {
    "id": "TfG6sPXgTdln"
   },
   "source": [
    "**Stemming**"
   ]
  },
  {
   "cell_type": "code",
   "execution_count": 19,
   "metadata": {
    "id": "k_qZMOtdTiMh"
   },
   "outputs": [],
   "source": [
    "port_stem= PorterStemmer()"
   ]
  },
  {
   "cell_type": "code",
   "execution_count": 20,
   "metadata": {
    "id": "LFzOhfS_UCdl"
   },
   "outputs": [],
   "source": [
    "def stemming(content):\n",
    "  stemmed_content=re.sub('[^a-zA-Z]',' ', content)\n",
    "  stemmed_content = stemmed_content.lower()\n",
    "  stemmed_content = stemmed_content.split()\n",
    "  stemmed_content = [port_stem.stem(word) for word in stemmed_content if not word in stopwords.words('english')]\n",
    "  stemmed_content = ' '.join(stemmed_content)\n",
    "\n",
    "  return stemmed_content"
   ]
  },
  {
   "cell_type": "code",
   "execution_count": 21,
   "metadata": {
    "id": "Vqp3tOYHVmdT"
   },
   "outputs": [],
   "source": [
    "twitter_data['stemmed_content'] = twitter_data['text'].apply(stemming)"
   ]
  },
  {
   "cell_type": "code",
   "execution_count": 22,
   "metadata": {
    "colab": {
     "base_uri": "https://localhost:8080/"
    },
    "id": "TEy49ycLW_c8",
    "outputId": "526eac73-ab3d-44b0-fd2f-449992d5cb9f"
   },
   "outputs": [
    {
     "data": {
      "text/plain": [
       "0                 indykitti hug indykitti sleep tight indi\n",
       "1        shough yeah feel realli bad tri best help know...\n",
       "2        embeep sorri sad home next week faff stalk cel...\n",
       "3            spend time famili cuz work went beach without\n",
       "4                                              new twitter\n",
       "                               ...                        \n",
       "49995    miszjuicybaybe im guessin ya got pass disney r...\n",
       "49996    make follow phone call mildli terrifi peopl ac...\n",
       "49997    strangegod say love friday strip much may stea...\n",
       "49998          got back church broke foot caught holyghost\n",
       "49999    infam got point wre want break control search ...\n",
       "Name: stemmed_content, Length: 50000, dtype: object"
      ]
     },
     "execution_count": 22,
     "metadata": {},
     "output_type": "execute_result"
    }
   ],
   "source": [
    "twitter_data['stemmed_content']"
   ]
  },
  {
   "cell_type": "code",
   "execution_count": 23,
   "metadata": {
    "colab": {
     "base_uri": "https://localhost:8080/",
     "height": 289
    },
    "id": "uEFBOGP7zdSw",
    "outputId": "bfcb639b-00a9-4a86-e08d-f1867c218c30"
   },
   "outputs": [
    {
     "data": {
      "text/html": [
       "<div>\n",
       "<style scoped>\n",
       "    .dataframe tbody tr th:only-of-type {\n",
       "        vertical-align: middle;\n",
       "    }\n",
       "\n",
       "    .dataframe tbody tr th {\n",
       "        vertical-align: top;\n",
       "    }\n",
       "\n",
       "    .dataframe thead th {\n",
       "        text-align: right;\n",
       "    }\n",
       "</style>\n",
       "<table border=\"1\" class=\"dataframe\">\n",
       "  <thead>\n",
       "    <tr style=\"text-align: right;\">\n",
       "      <th></th>\n",
       "      <th>target</th>\n",
       "      <th>id</th>\n",
       "      <th>date</th>\n",
       "      <th>flag</th>\n",
       "      <th>user</th>\n",
       "      <th>text</th>\n",
       "      <th>stemmed_content</th>\n",
       "    </tr>\n",
       "  </thead>\n",
       "  <tbody>\n",
       "    <tr>\n",
       "      <th>0</th>\n",
       "      <td>1</td>\n",
       "      <td>2064229792</td>\n",
       "      <td>Sun Jun 07 05:38:57 PDT 2009</td>\n",
       "      <td>NO_QUERY</td>\n",
       "      <td>PinoyTarsier</td>\n",
       "      <td>@indykitty *hug indykitty* sleep tight indy...</td>\n",
       "      <td>indykitti hug indykitti sleep tight indi</td>\n",
       "    </tr>\n",
       "    <tr>\n",
       "      <th>1</th>\n",
       "      <td>0</td>\n",
       "      <td>2063435330</td>\n",
       "      <td>Sun Jun 07 02:38:52 PDT 2009</td>\n",
       "      <td>NO_QUERY</td>\n",
       "      <td>Hannah_oxberry</td>\n",
       "      <td>@Shough yeah I feel really bad for them  tryin...</td>\n",
       "      <td>shough yeah feel realli bad tri best help know...</td>\n",
       "    </tr>\n",
       "    <tr>\n",
       "      <th>2</th>\n",
       "      <td>0</td>\n",
       "      <td>2251087443</td>\n",
       "      <td>Sat Jun 20 02:23:50 PDT 2009</td>\n",
       "      <td>NO_QUERY</td>\n",
       "      <td>meabhaline</td>\n",
       "      <td>@embeep sorry about your sadness  I'll be home...</td>\n",
       "      <td>embeep sorri sad home next week faff stalk cel...</td>\n",
       "    </tr>\n",
       "    <tr>\n",
       "      <th>3</th>\n",
       "      <td>0</td>\n",
       "      <td>2066987792</td>\n",
       "      <td>Sun Jun 07 11:32:31 PDT 2009</td>\n",
       "      <td>NO_QUERY</td>\n",
       "      <td>PDKG</td>\n",
       "      <td>Couldn't spend time with the family cuz of wor...</td>\n",
       "      <td>spend time famili cuz work went beach without</td>\n",
       "    </tr>\n",
       "    <tr>\n",
       "      <th>4</th>\n",
       "      <td>1</td>\n",
       "      <td>1557513350</td>\n",
       "      <td>Sun Apr 19 04:34:04 PDT 2009</td>\n",
       "      <td>NO_QUERY</td>\n",
       "      <td>eulaivi</td>\n",
       "      <td>is new on twitter</td>\n",
       "      <td>new twitter</td>\n",
       "    </tr>\n",
       "  </tbody>\n",
       "</table>\n",
       "</div>"
      ],
      "text/plain": [
       "   target          id                          date      flag            user  \\\n",
       "0       1  2064229792  Sun Jun 07 05:38:57 PDT 2009  NO_QUERY    PinoyTarsier   \n",
       "1       0  2063435330  Sun Jun 07 02:38:52 PDT 2009  NO_QUERY  Hannah_oxberry   \n",
       "2       0  2251087443  Sat Jun 20 02:23:50 PDT 2009  NO_QUERY      meabhaline   \n",
       "3       0  2066987792  Sun Jun 07 11:32:31 PDT 2009  NO_QUERY            PDKG   \n",
       "4       1  1557513350  Sun Apr 19 04:34:04 PDT 2009  NO_QUERY         eulaivi   \n",
       "\n",
       "                                                text  \\\n",
       "0    @indykitty *hug indykitty* sleep tight indy...    \n",
       "1  @Shough yeah I feel really bad for them  tryin...   \n",
       "2  @embeep sorry about your sadness  I'll be home...   \n",
       "3  Couldn't spend time with the family cuz of wor...   \n",
       "4                                 is new on twitter    \n",
       "\n",
       "                                     stemmed_content  \n",
       "0           indykitti hug indykitti sleep tight indi  \n",
       "1  shough yeah feel realli bad tri best help know...  \n",
       "2  embeep sorri sad home next week faff stalk cel...  \n",
       "3      spend time famili cuz work went beach without  \n",
       "4                                        new twitter  "
      ]
     },
     "execution_count": 23,
     "metadata": {},
     "output_type": "execute_result"
    }
   ],
   "source": [
    "twitter_data.head()"
   ]
  },
  {
   "cell_type": "markdown",
   "metadata": {},
   "source": [
    "**Lemmatisation**"
   ]
  },
  {
   "cell_type": "code",
   "execution_count": 24,
   "metadata": {
    "tags": []
   },
   "outputs": [],
   "source": [
    "import spacy\n",
    "\n",
    "nlp = spacy.load(\"en_core_web_sm\")\n",
    "\n",
    "\n",
    "def lemmatize_text(text):\n",
    "    doc = nlp(text)\n",
    "    lemmatized_text = \" \".join([token.lemma_ for token in doc])\n",
    "    return lemmatized_text\n"
   ]
  },
  {
   "cell_type": "code",
   "execution_count": 25,
   "metadata": {
    "tags": []
   },
   "outputs": [],
   "source": [
    "twitter_data['lemmatisation']=twitter_data['stemmed_content'].apply(lemmatize_text)"
   ]
  },
  {
   "cell_type": "code",
   "execution_count": 26,
   "metadata": {
    "colab": {
     "base_uri": "https://localhost:8080/"
    },
    "id": "mmrmmim4jJDQ",
    "outputId": "32b181e8-6134-4583-f6f7-6a1f9454b522"
   },
   "outputs": [
    {
     "data": {
      "text/plain": [
       "0                 indykitti hug indykitti sleep tight indi\n",
       "1        shough yeah feel realli bad tri good help know...\n",
       "2        embeep sorri sad home next week faff stalk cel...\n",
       "3              spend time famili cuz work go beach without\n",
       "4                                              new twitter\n",
       "                               ...                        \n",
       "49995    miszjuicybaybe I m guessin ya get pass disney ...\n",
       "49996    make follow phone call mildli terrifi peopl ac...\n",
       "49997    strangegod say love friday strip much may stea...\n",
       "49998           get back church break foot catch holyghost\n",
       "49999    infam get point wre want break control search ...\n",
       "Name: lemmatisation, Length: 50000, dtype: object"
      ]
     },
     "execution_count": 26,
     "metadata": {},
     "output_type": "execute_result"
    }
   ],
   "source": [
    "twitter_data['lemmatisation']"
   ]
  },
  {
   "cell_type": "code",
   "execution_count": 27,
   "metadata": {
    "id": "I3-yiX4IjryI"
   },
   "outputs": [],
   "source": [
    "X= twitter_data['lemmatisation'].values\n",
    "Y= twitter_data['target'].values"
   ]
  },
  {
   "cell_type": "code",
   "execution_count": 28,
   "metadata": {
    "colab": {
     "base_uri": "https://localhost:8080/"
    },
    "id": "KibzbDFHjtFU",
    "outputId": "c63dd4d3-414c-4877-c6ad-b77c2013941b"
   },
   "outputs": [
    {
     "data": {
      "text/plain": [
       "array(['indykitti hug indykitti sleep tight indi',\n",
       "       'shough yeah feel realli bad tri good help know say',\n",
       "       'embeep sorri sad home next week faff stalk celeb twitter', ...,\n",
       "       'strangegod say love friday strip much may steal wallet whenev meet',\n",
       "       'get back church break foot catch holyghost',\n",
       "       'infam get point wre want break control search hour freak blast chard angri'],\n",
       "      dtype=object)"
      ]
     },
     "execution_count": 28,
     "metadata": {},
     "output_type": "execute_result"
    }
   ],
   "source": [
    "X"
   ]
  },
  {
   "cell_type": "code",
   "execution_count": 29,
   "metadata": {
    "colab": {
     "base_uri": "https://localhost:8080/"
    },
    "id": "Z6ufnfOIkDPu",
    "outputId": "cd4447d9-7270-4a2e-f750-bdfe86f11781"
   },
   "outputs": [
    {
     "data": {
      "text/plain": [
       "array([1, 0, 0, ..., 1, 0, 0])"
      ]
     },
     "execution_count": 29,
     "metadata": {},
     "output_type": "execute_result"
    }
   ],
   "source": [
    "Y"
   ]
  },
  {
   "cell_type": "code",
   "execution_count": 30,
   "metadata": {
    "id": "bHb42QmdkD8Y"
   },
   "outputs": [],
   "source": [
    "#splitting the data to train and test data\n",
    "X_train,X_test,Y_train,Y_test= train_test_split(X,Y,test_size= 0.2,stratify= Y, random_state=2)"
   ]
  },
  {
   "cell_type": "code",
   "execution_count": 31,
   "metadata": {
    "colab": {
     "base_uri": "https://localhost:8080/"
    },
    "id": "zTk47Vcqkfnx",
    "outputId": "b0f5b3f9-4529-42f7-82af-900b1501bca5"
   },
   "outputs": [
    {
     "data": {
      "text/plain": [
       "(40000,)"
      ]
     },
     "execution_count": 31,
     "metadata": {},
     "output_type": "execute_result"
    }
   ],
   "source": [
    "X_train.shape"
   ]
  },
  {
   "cell_type": "code",
   "execution_count": 32,
   "metadata": {
    "colab": {
     "base_uri": "https://localhost:8080/"
    },
    "id": "Qb2YaugdlIQ6",
    "outputId": "14a290f7-462d-406e-eb3c-d487d4711d7b"
   },
   "outputs": [
    {
     "data": {
      "text/plain": [
       "(10000,)"
      ]
     },
     "execution_count": 32,
     "metadata": {},
     "output_type": "execute_result"
    }
   ],
   "source": [
    "X_test.shape"
   ]
  },
  {
   "cell_type": "code",
   "execution_count": 33,
   "metadata": {
    "id": "HXicri4qlMch"
   },
   "outputs": [],
   "source": [
    "#converting the textual data to numerical data\n",
    "vectorizer=TfidfVectorizer()\n",
    "\n",
    "X_train= vectorizer.fit_transform(X_train)\n",
    "X_test=vectorizer.transform(X_test)"
   ]
  },
  {
   "cell_type": "code",
   "execution_count": 34,
   "metadata": {
    "colab": {
     "base_uri": "https://localhost:8080/"
    },
    "id": "nzPUvzxgluIU",
    "outputId": "40b2c5ce-7133-4796-cbbb-1e77ab19a675"
   },
   "outputs": [
    {
     "name": "stdout",
     "output_type": "stream",
     "text": [
      "  (0, 28830)\t0.4456735564685389\n",
      "  (0, 39044)\t0.30595522606139547\n",
      "  (0, 35244)\t0.3122648897756591\n",
      "  (0, 23012)\t0.48737966703573504\n",
      "  (0, 35255)\t0.2584981251690527\n",
      "  (0, 38284)\t0.32541883111622955\n",
      "  (0, 20387)\t0.23887710633089906\n",
      "  (0, 33649)\t0.37807037862538795\n",
      "  (1, 7978)\t0.6274800667278917\n",
      "  (1, 21316)\t0.33487476078493117\n",
      "  (1, 3753)\t0.2998147015279358\n",
      "  (1, 15596)\t0.2365590000844638\n",
      "  (1, 19788)\t0.3979202837014403\n",
      "  (1, 24814)\t0.27106049304874447\n",
      "  (1, 13283)\t0.18640892446060903\n",
      "  (1, 37983)\t0.285860130979689\n",
      "  (2, 30157)\t0.504763048949136\n",
      "  (2, 7028)\t0.20513471965440305\n",
      "  (2, 27190)\t0.2672814755806756\n",
      "  (2, 27539)\t0.6148563470039692\n",
      "  (2, 39706)\t0.4084981758027527\n",
      "  (2, 30734)\t0.22486306212635163\n",
      "  (2, 15596)\t0.1902948770335579\n",
      "  (3, 29639)\t0.46025502603948687\n",
      "  (3, 31845)\t0.5117237655717117\n",
      "  :\t:\n",
      "  (39996, 13920)\t0.427115823273213\n",
      "  (39996, 13632)\t0.427115823273213\n",
      "  (39996, 12634)\t0.364070415136711\n",
      "  (39996, 8811)\t0.4112328165239006\n",
      "  (39996, 11791)\t0.33892751281962924\n",
      "  (39996, 38082)\t0.295211051875869\n",
      "  (39996, 19076)\t0.2593178231179279\n",
      "  (39996, 34889)\t0.1698015104187517\n",
      "  (39996, 36664)\t0.18810831994472288\n",
      "  (39997, 6640)\t0.8277171291968358\n",
      "  (39997, 13964)\t0.5611455729435532\n",
      "  (39998, 3662)\t0.5065064306910433\n",
      "  (39998, 18482)\t0.5065064306910433\n",
      "  (39998, 8023)\t0.4044376365512831\n",
      "  (39998, 28866)\t0.39107379448722857\n",
      "  (39998, 23794)\t0.2623984466924792\n",
      "  (39998, 32798)\t0.236350377283296\n",
      "  (39998, 38123)\t0.21372765631716883\n",
      "  (39999, 10259)\t0.48491067158684875\n",
      "  (39999, 33304)\t0.44416057825373395\n",
      "  (39999, 489)\t0.40166622661264906\n",
      "  (39999, 14097)\t0.3782693482923241\n",
      "  (39999, 15247)\t0.3294108891343187\n",
      "  (39999, 32002)\t0.26792715570027864\n",
      "  (39999, 3940)\t0.2878594608586846\n"
     ]
    }
   ],
   "source": [
    "print(X_train)"
   ]
  },
  {
   "cell_type": "code",
   "execution_count": 35,
   "metadata": {
    "colab": {
     "base_uri": "https://localhost:8080/"
    },
    "id": "VlkVc7iyntdt",
    "outputId": "e138a0de-bcb2-4db6-cb32-b56564cd9b54"
   },
   "outputs": [
    {
     "name": "stdout",
     "output_type": "stream",
     "text": [
      "  (0, 38248)\t0.35160095115245765\n",
      "  (0, 38056)\t0.2086162348089924\n",
      "  (0, 35332)\t0.2524756615802417\n",
      "  (0, 33998)\t0.27429488632634325\n",
      "  (0, 31061)\t0.3013419597020264\n",
      "  (0, 27396)\t0.433819771717304\n",
      "  (0, 19278)\t0.20895737941580333\n",
      "  (0, 12875)\t0.4514826809049862\n",
      "  (0, 6111)\t0.28451537599543447\n",
      "  (0, 1128)\t0.2939711305731157\n",
      "  (1, 32837)\t0.3636609415195808\n",
      "  (1, 28904)\t0.48784298224117195\n",
      "  (1, 26078)\t0.6357068169709108\n",
      "  (1, 20044)\t0.3550278026845089\n",
      "  (1, 12782)\t0.3155820756457087\n",
      "  (2, 38596)\t0.3540099382296676\n",
      "  (2, 37229)\t0.2131143900595945\n",
      "  (2, 34546)\t0.3103734747218957\n",
      "  (2, 34538)\t0.28338619101030704\n",
      "  (2, 24411)\t0.2396833345100523\n",
      "  (2, 24131)\t0.22113137257787774\n",
      "  (2, 22472)\t0.21830309344175786\n",
      "  (2, 15622)\t0.2675078195215352\n",
      "  (2, 15044)\t0.19946137871902833\n",
      "  (2, 11552)\t0.23743219155712345\n",
      "  :\t:\n",
      "  (9995, 3231)\t0.5187282016288416\n",
      "  (9996, 38284)\t0.3535041031771978\n",
      "  (9996, 36693)\t0.6074802506139857\n",
      "  (9996, 21034)\t0.2641806213315596\n",
      "  (9996, 14780)\t0.37181733424379565\n",
      "  (9996, 13940)\t0.3197674392950847\n",
      "  (9996, 13732)\t0.4423933184240321\n",
      "  (9997, 38324)\t0.17964776686635864\n",
      "  (9997, 37266)\t0.23950634591536743\n",
      "  (9997, 32485)\t0.4521252236183901\n",
      "  (9997, 23151)\t0.1875718351668485\n",
      "  (9997, 20818)\t0.18462105299353568\n",
      "  (9997, 15033)\t0.4521252236183901\n",
      "  (9997, 2886)\t0.3231063626071797\n",
      "  (9997, 1079)\t0.46958761399609944\n",
      "  (9997, 355)\t0.32764398228892777\n",
      "  (9998, 15091)\t0.737582485581428\n",
      "  (9998, 11209)\t0.6752570451046938\n",
      "  (9999, 35516)\t0.21988161566123504\n",
      "  (9999, 34911)\t0.3173996003504666\n",
      "  (9999, 32693)\t0.6001446788131484\n",
      "  (9999, 20576)\t0.30680819768586737\n",
      "  (9999, 11662)\t0.3581894363053923\n",
      "  (9999, 11591)\t0.33581258468958547\n",
      "  (9999, 4393)\t0.3943791307864898\n"
     ]
    }
   ],
   "source": [
    "print(X_test)"
   ]
  },
  {
   "cell_type": "markdown",
   "metadata": {
    "id": "yJ58t0WdnyYK"
   },
   "source": [
    "**Logistic Regression Model**"
   ]
  },
  {
   "cell_type": "code",
   "execution_count": 36,
   "metadata": {
    "id": "9Kf7Iqldn6jQ"
   },
   "outputs": [],
   "source": [
    "logit_model= LogisticRegression(max_iter=1000)"
   ]
  },
  {
   "cell_type": "code",
   "execution_count": 37,
   "metadata": {
    "colab": {
     "base_uri": "https://localhost:8080/",
     "height": 74
    },
    "id": "-ppz2npWoK0W",
    "outputId": "949a35bc-9867-4ddb-c4f3-6247798b4823"
   },
   "outputs": [
    {
     "data": {
      "text/html": [
       "<style>#sk-container-id-1 {color: black;}#sk-container-id-1 pre{padding: 0;}#sk-container-id-1 div.sk-toggleable {background-color: white;}#sk-container-id-1 label.sk-toggleable__label {cursor: pointer;display: block;width: 100%;margin-bottom: 0;padding: 0.3em;box-sizing: border-box;text-align: center;}#sk-container-id-1 label.sk-toggleable__label-arrow:before {content: \"▸\";float: left;margin-right: 0.25em;color: #696969;}#sk-container-id-1 label.sk-toggleable__label-arrow:hover:before {color: black;}#sk-container-id-1 div.sk-estimator:hover label.sk-toggleable__label-arrow:before {color: black;}#sk-container-id-1 div.sk-toggleable__content {max-height: 0;max-width: 0;overflow: hidden;text-align: left;background-color: #f0f8ff;}#sk-container-id-1 div.sk-toggleable__content pre {margin: 0.2em;color: black;border-radius: 0.25em;background-color: #f0f8ff;}#sk-container-id-1 input.sk-toggleable__control:checked~div.sk-toggleable__content {max-height: 200px;max-width: 100%;overflow: auto;}#sk-container-id-1 input.sk-toggleable__control:checked~label.sk-toggleable__label-arrow:before {content: \"▾\";}#sk-container-id-1 div.sk-estimator input.sk-toggleable__control:checked~label.sk-toggleable__label {background-color: #d4ebff;}#sk-container-id-1 div.sk-label input.sk-toggleable__control:checked~label.sk-toggleable__label {background-color: #d4ebff;}#sk-container-id-1 input.sk-hidden--visually {border: 0;clip: rect(1px 1px 1px 1px);clip: rect(1px, 1px, 1px, 1px);height: 1px;margin: -1px;overflow: hidden;padding: 0;position: absolute;width: 1px;}#sk-container-id-1 div.sk-estimator {font-family: monospace;background-color: #f0f8ff;border: 1px dotted black;border-radius: 0.25em;box-sizing: border-box;margin-bottom: 0.5em;}#sk-container-id-1 div.sk-estimator:hover {background-color: #d4ebff;}#sk-container-id-1 div.sk-parallel-item::after {content: \"\";width: 100%;border-bottom: 1px solid gray;flex-grow: 1;}#sk-container-id-1 div.sk-label:hover label.sk-toggleable__label {background-color: #d4ebff;}#sk-container-id-1 div.sk-serial::before {content: \"\";position: absolute;border-left: 1px solid gray;box-sizing: border-box;top: 0;bottom: 0;left: 50%;z-index: 0;}#sk-container-id-1 div.sk-serial {display: flex;flex-direction: column;align-items: center;background-color: white;padding-right: 0.2em;padding-left: 0.2em;position: relative;}#sk-container-id-1 div.sk-item {position: relative;z-index: 1;}#sk-container-id-1 div.sk-parallel {display: flex;align-items: stretch;justify-content: center;background-color: white;position: relative;}#sk-container-id-1 div.sk-item::before, #sk-container-id-1 div.sk-parallel-item::before {content: \"\";position: absolute;border-left: 1px solid gray;box-sizing: border-box;top: 0;bottom: 0;left: 50%;z-index: -1;}#sk-container-id-1 div.sk-parallel-item {display: flex;flex-direction: column;z-index: 1;position: relative;background-color: white;}#sk-container-id-1 div.sk-parallel-item:first-child::after {align-self: flex-end;width: 50%;}#sk-container-id-1 div.sk-parallel-item:last-child::after {align-self: flex-start;width: 50%;}#sk-container-id-1 div.sk-parallel-item:only-child::after {width: 0;}#sk-container-id-1 div.sk-dashed-wrapped {border: 1px dashed gray;margin: 0 0.4em 0.5em 0.4em;box-sizing: border-box;padding-bottom: 0.4em;background-color: white;}#sk-container-id-1 div.sk-label label {font-family: monospace;font-weight: bold;display: inline-block;line-height: 1.2em;}#sk-container-id-1 div.sk-label-container {text-align: center;}#sk-container-id-1 div.sk-container {/* jupyter's `normalize.less` sets `[hidden] { display: none; }` but bootstrap.min.css set `[hidden] { display: none !important; }` so we also need the `!important` here to be able to override the default hidden behavior on the sphinx rendered scikit-learn.org. See: https://github.com/scikit-learn/scikit-learn/issues/21755 */display: inline-block !important;position: relative;}#sk-container-id-1 div.sk-text-repr-fallback {display: none;}</style><div id=\"sk-container-id-1\" class=\"sk-top-container\"><div class=\"sk-text-repr-fallback\"><pre>LogisticRegression(max_iter=1000)</pre><b>In a Jupyter environment, please rerun this cell to show the HTML representation or trust the notebook. <br />On GitHub, the HTML representation is unable to render, please try loading this page with nbviewer.org.</b></div><div class=\"sk-container\" hidden><div class=\"sk-item\"><div class=\"sk-estimator sk-toggleable\"><input class=\"sk-toggleable__control sk-hidden--visually\" id=\"sk-estimator-id-1\" type=\"checkbox\" checked><label for=\"sk-estimator-id-1\" class=\"sk-toggleable__label sk-toggleable__label-arrow\">LogisticRegression</label><div class=\"sk-toggleable__content\"><pre>LogisticRegression(max_iter=1000)</pre></div></div></div></div></div>"
      ],
      "text/plain": [
       "LogisticRegression(max_iter=1000)"
      ]
     },
     "execution_count": 37,
     "metadata": {},
     "output_type": "execute_result"
    }
   ],
   "source": [
    "logit_model.fit(X_train,Y_train)"
   ]
  },
  {
   "cell_type": "code",
   "execution_count": 38,
   "metadata": {
    "id": "9rWqu9dQoV9q"
   },
   "outputs": [],
   "source": [
    "#MODEL EVALUATION\n",
    "X_train_prediction =logit_model.predict(X_train)\n",
    "training_data_accuracy= accuracy_score(Y_train,X_train_prediction)"
   ]
  },
  {
   "cell_type": "code",
   "execution_count": 39,
   "metadata": {
    "colab": {
     "base_uri": "https://localhost:8080/"
    },
    "id": "aBaOQveUpAKv",
    "outputId": "f7dac4b6-460d-4dce-c269-6d37e0234605"
   },
   "outputs": [
    {
     "data": {
      "text/plain": [
       "0.83405"
      ]
     },
     "execution_count": 39,
     "metadata": {},
     "output_type": "execute_result"
    }
   ],
   "source": [
    "training_data_accuracy"
   ]
  },
  {
   "cell_type": "code",
   "execution_count": 40,
   "metadata": {
    "id": "M9FRYbk9pCvp"
   },
   "outputs": [],
   "source": [
    "X_test_prediction=logit_model.predict(X_test)\n",
    "accuracy_lr=accuracy_score(Y_test,X_test_prediction)"
   ]
  },
  {
   "cell_type": "code",
   "execution_count": 42,
   "metadata": {
    "colab": {
     "base_uri": "https://localhost:8080/"
    },
    "id": "U05NU2BJpV7T",
    "outputId": "cb22eeab-a40d-4d24-d4a1-6b8dc8d30371"
   },
   "outputs": [
    {
     "data": {
      "text/plain": [
       "0.7448"
      ]
     },
     "execution_count": 42,
     "metadata": {},
     "output_type": "execute_result"
    }
   ],
   "source": [
    "accuracy_lr"
   ]
  },
  {
   "cell_type": "markdown",
   "metadata": {
    "id": "XqW3ZNzRpdZg"
   },
   "source": [
    "**Neural Networks**"
   ]
  },
  {
   "cell_type": "code",
   "execution_count": 43,
   "metadata": {
    "tags": []
   },
   "outputs": [],
   "source": [
    "import tensorflow as tf\n",
    "from tensorflow.keras.models import Sequential\n",
    "from tensorflow.keras.layers import Dense, Dropout\n",
    "from tensorflow.keras.optimizers import Adam\n",
    "\n",
    "\n",
    "# Build the neural network model\n",
    "def build_model(input_dim):\n",
    "    model = Sequential([\n",
    "        Dense(512, input_dim=input_dim, activation='relu'),\n",
    "        Dropout(0.5),\n",
    "        Dense(256, activation='relu'),\n",
    "        Dropout(0.5),\n",
    "        Dense(128, activation='relu'),   # Third hidden layer\n",
    "        Dropout(0.5),\n",
    "        Dense(64, activation='relu'),    # Fourth hidden layer\n",
    "        Dropout(0.5),\n",
    "        Dense(32, activation='relu'),    # Fifth hidden layer\n",
    "        Dropout(0.5),\n",
    "        Dense(1, activation='sigmoid')  # Use sigmoid for binary classification\n",
    "    ])\n",
    "    model.compile(optimizer=Adam(learning_rate=0.001), loss='binary_crossentropy', metrics=['accuracy'])\n",
    "    return model\n"
   ]
  },
  {
   "cell_type": "code",
   "execution_count": 44,
   "metadata": {
    "tags": []
   },
   "outputs": [
    {
     "name": "stderr",
     "output_type": "stream",
     "text": [
      "/Users/sarveshkrishnan/anaconda3/lib/python3.11/site-packages/keras/src/layers/core/dense.py:86: UserWarning: Do not pass an `input_shape`/`input_dim` argument to a layer. When using Sequential models, prefer using an `Input(shape)` object as the first layer in the model instead.\n",
      "  super().__init__(activity_regularizer=activity_regularizer, **kwargs)\n",
      "2024-04-28 18:03:56.542606: I metal_plugin/src/device/metal_device.cc:1154] Metal device set to: Apple M2 Pro\n",
      "2024-04-28 18:03:56.542631: I metal_plugin/src/device/metal_device.cc:296] systemMemory: 16.00 GB\n",
      "2024-04-28 18:03:56.542644: I metal_plugin/src/device/metal_device.cc:313] maxCacheSize: 5.33 GB\n",
      "2024-04-28 18:03:56.542886: I tensorflow/core/common_runtime/pluggable_device/pluggable_device_factory.cc:305] Could not identify NUMA node of platform GPU ID 0, defaulting to 0. Your kernel may not have been built with NUMA support.\n",
      "2024-04-28 18:03:56.542903: I tensorflow/core/common_runtime/pluggable_device/pluggable_device_factory.cc:271] Created TensorFlow device (/job:localhost/replica:0/task:0/device:GPU:0 with 0 MB memory) -> physical PluggableDevice (device: 0, name: METAL, pci bus id: <undefined>)\n"
     ]
    },
    {
     "name": "stdout",
     "output_type": "stream",
     "text": [
      "Epoch 1/10\n"
     ]
    },
    {
     "name": "stderr",
     "output_type": "stream",
     "text": [
      "2024-04-28 18:03:57.558835: I tensorflow/core/grappler/optimizers/custom_graph_optimizer_registry.cc:117] Plugin optimizer for device_type GPU is enabled.\n"
     ]
    },
    {
     "name": "stdout",
     "output_type": "stream",
     "text": [
      "\u001b[1m563/563\u001b[0m \u001b[32m━━━━━━━━━━━━━━━━━━━━\u001b[0m\u001b[37m\u001b[0m \u001b[1m68s\u001b[0m 118ms/step - accuracy: 0.5951 - loss: 0.6462 - val_accuracy: 0.7290 - val_loss: 0.5460\n",
      "Epoch 2/10\n",
      "\u001b[1m563/563\u001b[0m \u001b[32m━━━━━━━━━━━━━━━━━━━━\u001b[0m\u001b[37m\u001b[0m \u001b[1m60s\u001b[0m 107ms/step - accuracy: 0.8246 - loss: 0.4149 - val_accuracy: 0.7235 - val_loss: 0.5498\n",
      "Epoch 3/10\n",
      "\u001b[1m563/563\u001b[0m \u001b[32m━━━━━━━━━━━━━━━━━━━━\u001b[0m\u001b[37m\u001b[0m \u001b[1m58s\u001b[0m 102ms/step - accuracy: 0.9077 - loss: 0.2544 - val_accuracy: 0.7125 - val_loss: 0.6441\n",
      "Epoch 4/10\n",
      "\u001b[1m563/563\u001b[0m \u001b[32m━━━━━━━━━━━━━━━━━━━━\u001b[0m\u001b[37m\u001b[0m \u001b[1m58s\u001b[0m 104ms/step - accuracy: 0.9605 - loss: 0.1213 - val_accuracy: 0.6985 - val_loss: 1.0402\n",
      "Epoch 5/10\n",
      "\u001b[1m563/563\u001b[0m \u001b[32m━━━━━━━━━━━━━━━━━━━━\u001b[0m\u001b[37m\u001b[0m \u001b[1m59s\u001b[0m 104ms/step - accuracy: 0.9829 - loss: 0.0583 - val_accuracy: 0.7045 - val_loss: 1.1532\n",
      "Epoch 6/10\n",
      "\u001b[1m563/563\u001b[0m \u001b[32m━━━━━━━━━━━━━━━━━━━━\u001b[0m\u001b[37m\u001b[0m \u001b[1m60s\u001b[0m 107ms/step - accuracy: 0.9887 - loss: 0.0370 - val_accuracy: 0.6980 - val_loss: 1.5568\n",
      "Epoch 7/10\n",
      "\u001b[1m563/563\u001b[0m \u001b[32m━━━━━━━━━━━━━━━━━━━━\u001b[0m\u001b[37m\u001b[0m \u001b[1m62s\u001b[0m 109ms/step - accuracy: 0.9917 - loss: 0.0244 - val_accuracy: 0.7005 - val_loss: 1.7147\n",
      "Epoch 8/10\n",
      "\u001b[1m563/563\u001b[0m \u001b[32m━━━━━━━━━━━━━━━━━━━━\u001b[0m\u001b[37m\u001b[0m \u001b[1m62s\u001b[0m 110ms/step - accuracy: 0.9941 - loss: 0.0184 - val_accuracy: 0.6970 - val_loss: 1.4812\n",
      "Epoch 9/10\n",
      "\u001b[1m563/563\u001b[0m \u001b[32m━━━━━━━━━━━━━━━━━━━━\u001b[0m\u001b[37m\u001b[0m \u001b[1m62s\u001b[0m 111ms/step - accuracy: 0.9943 - loss: 0.0183 - val_accuracy: 0.7042 - val_loss: 1.3282\n",
      "Epoch 10/10\n",
      "\u001b[1m563/563\u001b[0m \u001b[32m━━━━━━━━━━━━━━━━━━━━\u001b[0m\u001b[37m\u001b[0m \u001b[1m68s\u001b[0m 121ms/step - accuracy: 0.9958 - loss: 0.0159 - val_accuracy: 0.7000 - val_loss: 1.8077\n",
      "\u001b[1m313/313\u001b[0m \u001b[32m━━━━━━━━━━━━━━━━━━━━\u001b[0m\u001b[37m\u001b[0m \u001b[1m8s\u001b[0m 24ms/step - accuracy: 0.7024 - loss: 2.2763\n",
      "Test Loss: 2.1974661350250244\n",
      "Test Accuracy: 0.7117999792098999\n"
     ]
    }
   ],
   "source": [
    "\n",
    "nn = build_model(X_train.shape[1])  # Input dimension\n",
    "nn.fit(X_train, Y_train, epochs=10, batch_size=64, validation_split=0.1, verbose=1)\n",
    "\n",
    "# Evaluate the model on the test data\n",
    "loss, accuracy = nn.evaluate(X_test, Y_test)\n",
    "print(f\"Test Loss: {loss}\")\n",
    "print(f\"Test Accuracy: {accuracy}\")"
   ]
  }
 ],
 "metadata": {
  "colab": {
   "provenance": []
  },
  "kernelspec": {
   "display_name": "Python 3 (ipykernel)",
   "language": "python",
   "name": "python3"
  },
  "language_info": {
   "codemirror_mode": {
    "name": "ipython",
    "version": 3
   },
   "file_extension": ".py",
   "mimetype": "text/x-python",
   "name": "python",
   "nbconvert_exporter": "python",
   "pygments_lexer": "ipython3",
   "version": "3.11.4"
  }
 },
 "nbformat": 4,
 "nbformat_minor": 4
}
