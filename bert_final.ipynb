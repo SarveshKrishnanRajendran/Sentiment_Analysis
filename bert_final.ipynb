{
 "cells": [
  {
   "cell_type": "markdown",
   "id": "01acb52a-c64e-427e-9a64-cd8c1c123915",
   "metadata": {},
   "source": [
    "****IMPLEMENTING BERT MODEL FOR SENTIMENTAL ANALYISIS****"
   ]
  },
  {
   "cell_type": "markdown",
   "id": "2f45737c-de14-4193-b04a-b9292b9b8c3d",
   "metadata": {},
   "source": [
    "Loading necessary libraries and dataset form kaggle using an api token"
   ]
  },
  {
   "cell_type": "code",
   "execution_count": 1,
   "id": "9d34408d-7516-4e8e-9b31-ae5fc9deb8c1",
   "metadata": {
    "tags": []
   },
   "outputs": [],
   "source": [
    "import os\n",
    "import pandas as pd\n",
    "from transformers import DistilBertTokenizer, DistilBertForSequenceClassification\n",
    "from transformers import Trainer, TrainingArguments\n",
    "import torch\n",
    "from torch.utils.data import Dataset, DataLoader\n",
    "from sklearn.model_selection import train_test_split\n",
    "from kaggle.api.kaggle_api_extended import KaggleApi\n",
    "import numpy as np\n",
    "from sklearn.metrics import accuracy_score\n",
    "\n",
    "def download_dataset():\n",
    "    api = KaggleApi()\n",
    "    api.authenticate()\n",
    "    api.dataset_download_files('kazanova/sentiment140', path='sentiment140', unzip=True)\n",
    "\n"
   ]
  },
  {
   "cell_type": "markdown",
   "id": "4150ddf6-7aae-47e1-9a9f-a7f8811047d0",
   "metadata": {},
   "source": [
    "Created a class to preprocess the data and sample 100000 instances"
   ]
  },
  {
   "cell_type": "code",
   "execution_count": 2,
   "id": "43c42546-6c18-4feb-9e1c-5c6933272142",
   "metadata": {},
   "outputs": [],
   "source": [
    "class Sentiment140Dataset(Dataset):\n",
    "    def __init__(self, tokenizer, file_path, max_len=128, sample_size=100000):\n",
    "        column_names=['sentiment','id','date','flag','user','text']\n",
    "        self.data = pd.read_csv(file_path, encoding='ISO-8859-1', names=column_names)\n",
    "        self.data['sentiment'] = self.data['sentiment'].replace(4, 1)  # Convert 4 to 1 for positive sentiment\n",
    "        if sample_size:\n",
    "            self.data = self.data.sample(n=sample_size, random_state=42)\n",
    "        self.tokenizer = tokenizer\n",
    "        self.max_len = max_len\n",
    "\n",
    "    def __len__(self):\n",
    "        return len(self.data)\n",
    "\n",
    "    def __getitem__(self, index):\n",
    "        text = self.data.iloc[index]['text']\n",
    "        sentiment = self.data.iloc[index]['sentiment']\n",
    "        inputs = self.tokenizer.encode_plus(\n",
    "            text,\n",
    "            None,\n",
    "            add_special_tokens=True,\n",
    "            max_length=self.max_len,\n",
    "            padding='max_length',\n",
    "            return_token_type_ids=True,\n",
    "            truncation=True\n",
    "        )\n",
    "        return {\n",
    "            'input_ids': torch.tensor(inputs['input_ids'], dtype=torch.long),\n",
    "            'attention_mask': torch.tensor(inputs['attention_mask'], dtype=torch.long),\n",
    "            'labels': torch.tensor(sentiment, dtype=torch.long)\n",
    "        }\n"
   ]
  },
  {
   "cell_type": "markdown",
   "id": "cdb5cb41-ea9b-4543-b715-d5c0beda9eb1",
   "metadata": {
    "tags": []
   },
   "source": [
    "created a function to compute the metrics"
   ]
  },
  {
   "cell_type": "code",
   "execution_count": 3,
   "id": "99a0b638-a113-4c62-8ace-0519e36cc989",
   "metadata": {
    "tags": []
   },
   "outputs": [],
   "source": [
    "def compute_metrics(pred):\n",
    "    labels = pred.label_ids\n",
    "    preds = np.argmax(pred.predictions, axis=-1)\n",
    "    acc = accuracy_score(labels, preds)\n",
    "    return {'accuracy': acc}\n",
    "\n"
   ]
  },
  {
   "cell_type": "markdown",
   "id": "c3f78e68-fca1-4443-a677-79ddd8e1e106",
   "metadata": {
    "tags": []
   },
   "source": [
    "Defining a function to train the model on distil bert"
   ]
  },
  {
   "cell_type": "code",
   "execution_count": 4,
   "id": "68681214-e9c7-4444-91dc-101b9c0b5b2a",
   "metadata": {
    "tags": []
   },
   "outputs": [],
   "source": [
    "\n",
    "def train_model(data_path):\n",
    "    tokenizer = DistilBertTokenizer.from_pretrained('distilbert-base-uncased')\n",
    "    dataset = Sentiment140Dataset(tokenizer, os.path.join(data_path, 'training.1600000.processed.noemoticon.csv'), sample_size=1000)\n",
    "    model = DistilBertForSequenceClassification.from_pretrained('distilbert-base-uncased', num_labels=2)\n",
    "\n",
    "    train_dataset, test_dataset = train_test_split(dataset, test_size=0.1,random_state=42)\n",
    "    training_args = TrainingArguments(\n",
    "        output_dir='./results',\n",
    "        num_train_epochs=10,\n",
    "        per_device_train_batch_size=128,\n",
    "        warmup_steps=100,\n",
    "        weight_decay=0.01,\n",
    "        logging_dir='./logs',\n",
    "        logging_steps=10,\n",
    "    )\n",
    "\n",
    "    trainer = Trainer(\n",
    "        model=model,\n",
    "        args=training_args,\n",
    "        train_dataset=train_dataset,\n",
    "        eval_dataset=test_dataset,\n",
    "        compute_metrics=compute_metrics\n",
    "    )\n",
    "\n",
    "    trainer.train()\n",
    "    train_result = trainer.train()\n",
    "    eval_result = trainer.evaluate()\n",
    "\n",
    "\n",
    "    print(f\"Training results: {train_result.metrics}\")\n",
    "    print(f\"Evaluation results: {eval_result}\")\n",
    "    \n",
    "    model.save_pretrained('./saved_model')\n",
    "    tokenizer.save_pretrained('./saved_model')\n"
   ]
  },
  {
   "cell_type": "markdown",
   "id": "589a532d-9d62-4fa2-a315-d0ba6ff7ca23",
   "metadata": {},
   "source": [
    "Using a main function to run the code"
   ]
  },
  {
   "cell_type": "code",
   "execution_count": 5,
   "id": "87687948-809d-435f-9679-13590547504d",
   "metadata": {
    "tags": []
   },
   "outputs": [
    {
     "name": "stdout",
     "output_type": "stream",
     "text": [
      "Dataset URL: https://www.kaggle.com/datasets/kazanova/sentiment140\n"
     ]
    },
    {
     "name": "stderr",
     "output_type": "stream",
     "text": [
      "Some weights of DistilBertForSequenceClassification were not initialized from the model checkpoint at distilbert-base-uncased and are newly initialized: ['classifier.bias', 'classifier.weight', 'pre_classifier.bias', 'pre_classifier.weight']\n",
      "You should probably TRAIN this model on a down-stream task to be able to use it for predictions and inference.\n"
     ]
    },
    {
     "data": {
      "text/html": [
       "\n",
       "    <div>\n",
       "      \n",
       "      <progress value='80' max='80' style='width:300px; height:20px; vertical-align: middle;'></progress>\n",
       "      [80/80 01:47, Epoch 10/10]\n",
       "    </div>\n",
       "    <table border=\"1\" class=\"dataframe\">\n",
       "  <thead>\n",
       " <tr style=\"text-align: left;\">\n",
       "      <th>Step</th>\n",
       "      <th>Training Loss</th>\n",
       "    </tr>\n",
       "  </thead>\n",
       "  <tbody>\n",
       "    <tr>\n",
       "      <td>10</td>\n",
       "      <td>0.692200</td>\n",
       "    </tr>\n",
       "    <tr>\n",
       "      <td>20</td>\n",
       "      <td>0.682900</td>\n",
       "    </tr>\n",
       "    <tr>\n",
       "      <td>30</td>\n",
       "      <td>0.673900</td>\n",
       "    </tr>\n",
       "    <tr>\n",
       "      <td>40</td>\n",
       "      <td>0.615600</td>\n",
       "    </tr>\n",
       "    <tr>\n",
       "      <td>50</td>\n",
       "      <td>0.496300</td>\n",
       "    </tr>\n",
       "    <tr>\n",
       "      <td>60</td>\n",
       "      <td>0.327500</td>\n",
       "    </tr>\n",
       "    <tr>\n",
       "      <td>70</td>\n",
       "      <td>0.204100</td>\n",
       "    </tr>\n",
       "    <tr>\n",
       "      <td>80</td>\n",
       "      <td>0.108500</td>\n",
       "    </tr>\n",
       "  </tbody>\n",
       "</table><p>"
      ],
      "text/plain": [
       "<IPython.core.display.HTML object>"
      ]
     },
     "metadata": {},
     "output_type": "display_data"
    },
    {
     "data": {
      "text/html": [
       "\n",
       "    <div>\n",
       "      \n",
       "      <progress value='80' max='80' style='width:300px; height:20px; vertical-align: middle;'></progress>\n",
       "      [80/80 01:47, Epoch 10/10]\n",
       "    </div>\n",
       "    <table border=\"1\" class=\"dataframe\">\n",
       "  <thead>\n",
       " <tr style=\"text-align: left;\">\n",
       "      <th>Step</th>\n",
       "      <th>Training Loss</th>\n",
       "    </tr>\n",
       "  </thead>\n",
       "  <tbody>\n",
       "    <tr>\n",
       "      <td>10</td>\n",
       "      <td>0.078800</td>\n",
       "    </tr>\n",
       "    <tr>\n",
       "      <td>20</td>\n",
       "      <td>0.061800</td>\n",
       "    </tr>\n",
       "    <tr>\n",
       "      <td>30</td>\n",
       "      <td>0.048900</td>\n",
       "    </tr>\n",
       "    <tr>\n",
       "      <td>40</td>\n",
       "      <td>0.138800</td>\n",
       "    </tr>\n",
       "    <tr>\n",
       "      <td>50</td>\n",
       "      <td>0.059700</td>\n",
       "    </tr>\n",
       "    <tr>\n",
       "      <td>60</td>\n",
       "      <td>0.032800</td>\n",
       "    </tr>\n",
       "    <tr>\n",
       "      <td>70</td>\n",
       "      <td>0.018300</td>\n",
       "    </tr>\n",
       "    <tr>\n",
       "      <td>80</td>\n",
       "      <td>0.022000</td>\n",
       "    </tr>\n",
       "  </tbody>\n",
       "</table><p>"
      ],
      "text/plain": [
       "<IPython.core.display.HTML object>"
      ]
     },
     "metadata": {},
     "output_type": "display_data"
    },
    {
     "data": {
      "text/html": [
       "\n",
       "    <div>\n",
       "      \n",
       "      <progress value='13' max='13' style='width:300px; height:20px; vertical-align: middle;'></progress>\n",
       "      [13/13 00:00]\n",
       "    </div>\n",
       "    "
      ],
      "text/plain": [
       "<IPython.core.display.HTML object>"
      ]
     },
     "metadata": {},
     "output_type": "display_data"
    },
    {
     "name": "stdout",
     "output_type": "stream",
     "text": [
      "Training results: {'train_runtime': 109.4008, 'train_samples_per_second': 82.266, 'train_steps_per_second': 0.731, 'total_flos': 298051646976000.0, 'train_loss': 0.057626415602862836, 'epoch': 10.0}\n",
      "Evaluation results: {'eval_loss': 0.8881073594093323, 'eval_accuracy': 0.83, 'eval_runtime': 0.7235, 'eval_samples_per_second': 138.224, 'eval_steps_per_second': 17.969, 'epoch': 10.0}\n"
     ]
    }
   ],
   "source": [
    "# Main execution\n",
    "if __name__ == '__main__':\n",
    "    download_dataset()\n",
    "    train_model('sentiment140')\n",
    "\n"
   ]
  },
  {
   "cell_type": "code",
   "execution_count": null,
   "id": "e2894d68-69dc-41cd-bf15-efdccb0a7ea0",
   "metadata": {},
   "outputs": [],
   "source": []
  }
 ],
 "metadata": {
  "kernelspec": {
   "display_name": "Python 3 (ipykernel)",
   "language": "python",
   "name": "python3"
  },
  "language_info": {
   "codemirror_mode": {
    "name": "ipython",
    "version": 3
   },
   "file_extension": ".py",
   "mimetype": "text/x-python",
   "name": "python",
   "nbconvert_exporter": "python",
   "pygments_lexer": "ipython3",
   "version": "3.11.4"
  }
 },
 "nbformat": 4,
 "nbformat_minor": 5
}
